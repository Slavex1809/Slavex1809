{
  "cells": [
    {
      "cell_type": "markdown",
      "metadata": {
        "id": "view-in-github",
        "colab_type": "text"
      },
      "source": [
        "<a href=\"https://colab.research.google.com/github/Slavex1809/Slavex1809/blob/main/%D0%94%D0%BC%D0%B8%D1%82%D1%80%D0%B8%D0%B5%D0%B2_%D0%92_%D0%A1_%D0%A5%D0%B0%D0%BA%D0%B0%D1%82%D0%BE%D0%BD_%D0%9F%D1%80%D0%BE%D0%B5%D0%BA%D1%82_%22%D0%9C%D1%83%D0%B7%D0%B5%D0%B8_%D0%B4%D0%BB%D1%8F_%D0%B7%D0%BD%D0%B0%D0%BA%D0%BE%D0%BC%D1%81%D1%82%D0%B2%D0%B0%22.ipynb\" target=\"_parent\"><img src=\"https://colab.research.google.com/assets/colab-badge.svg\" alt=\"Open In Colab\"/></a>"
      ]
    },
    {
      "cell_type": "markdown",
      "metadata": {
        "id": "HxGPHYCuoPbc"
      },
      "source": []
    },
    {
      "cell_type": "markdown",
      "metadata": {
        "id": "FFt0mbJEoSGh"
      },
      "source": [
        "Данный проект ставит собой цель создать удобные сопутствующие возмоджности для людей посещать музеи и интересные места не только в туристических целях, но и для знакомств с интересными людьми или в целях развития личных отношений. Таким образом решаются сразу две задачи: 1. популяризация культурных объектов, 2. установление контактов-знакомств в личных целях, общее время препровождение."
      ]
    },
    {
      "cell_type": "markdown",
      "metadata": {
        "id": "Cd_O08f8tZh-"
      },
      "source": [
        "Для создания бота, который позволяет людям выбрать музей, место досуга или событие для знакомства с другими пользователями из сайта знакомств или социальных сетей, необходимо выполнить следующие шаги:\n",
        "\n",
        "- Определить цель бота: Бот должен предоставлять пользователям возможность выбирать места для знакомства, основываясь на их предпочтениях и интересах.\n",
        "\n",
        "- Выбрать платформу для разработки: Для создания бота можно использовать различные платформы, такие как Telegram, Discord, Slack и т.д. В данном случае мы будем использовать Telegram.\n",
        "\n",
        "- Создать бота в Telegram: Использовать библиотеку python-telegram-bot для создания и управления ботом в Telegram. Зарегистрировать новый бот через @BotFather в Telegram и получить токен для доступа к API.\n",
        "\n",
        "- Спроектировать базу данных: Создать базу данных, где будут храниться информация о музеях, местах досуга и событиях. Это может быть база данных SQL (например, MySQL) или NoSQL (например, MongoDB).\n",
        "\n",
        "- Написать код для бота: Написать код, который будет обрабатывать запросы пользователей и предоставлять им информацию о доступных местах для знакомства. Использовать библиотеки для работы с базой данных (например, pymysql для MySQL или pymongo для MongoDB) и для отправки сообщений в Telegram (python-telegram-bot).\n",
        "\n",
        "- Протестировать бота: Запусть бот и протестировать его, отправляя ему команды и проверяя, что он работает корректно.\n",
        "\n",
        "Развернуть бот: Развернуть бот на сервере или облачной платформе, чтобы он был доступен для пользователей.\n",
        "\n",
        "Продвигать бота: Продвигать бот\n",
        " среди пользователей, чтобы они могли его найти и начать использовать.\n"
      ]
    },
    {
      "cell_type": "markdown",
      "metadata": {
        "id": "UJp0cTeyvKYZ"
      },
      "source": [
        "Для создания бота на Python, который поможет пользователям выбрать музей, место досуга или событие для знакомств, можно использовать библиотеку aiogram для работы с Telegram API. Бот будет предлагать пользователю выбрать категорию (музей, место досуга, событие), а затем показывать варианты.\n"
      ]
    },
    {
      "cell_type": "code",
      "execution_count": null,
      "metadata": {
        "colab": {
          "base_uri": "https://localhost:8080/"
        },
        "id": "sFnyjJWtIicA",
        "outputId": "8cdd7cab-7fb0-4347-82f6-909e8286de24"
      },
      "outputs": [
        {
          "output_type": "stream",
          "name": "stdout",
          "text": [
            "Collecting pyppeteer\n",
            "  Downloading pyppeteer-2.0.0-py3-none-any.whl.metadata (7.1 kB)\n",
            "Collecting appdirs<2.0.0,>=1.4.3 (from pyppeteer)\n",
            "  Downloading appdirs-1.4.4-py2.py3-none-any.whl.metadata (9.0 kB)\n",
            "Requirement already satisfied: certifi>=2023 in /usr/local/lib/python3.11/dist-packages (from pyppeteer) (2025.1.31)\n",
            "Requirement already satisfied: importlib-metadata>=1.4 in /usr/local/lib/python3.11/dist-packages (from pyppeteer) (8.6.1)\n",
            "Collecting pyee<12.0.0,>=11.0.0 (from pyppeteer)\n",
            "  Downloading pyee-11.1.1-py3-none-any.whl.metadata (2.8 kB)\n",
            "Requirement already satisfied: tqdm<5.0.0,>=4.42.1 in /usr/local/lib/python3.11/dist-packages (from pyppeteer) (4.67.1)\n",
            "Collecting urllib3<2.0.0,>=1.25.8 (from pyppeteer)\n",
            "  Downloading urllib3-1.26.20-py2.py3-none-any.whl.metadata (50 kB)\n",
            "\u001b[2K     \u001b[90m━━━━━━━━━━━━━━━━━━━━━━━━━━━━━━━━━━━━━━━━\u001b[0m \u001b[32m50.1/50.1 kB\u001b[0m \u001b[31m1.7 MB/s\u001b[0m eta \u001b[36m0:00:00\u001b[0m\n",
            "\u001b[?25hCollecting websockets<11.0,>=10.0 (from pyppeteer)\n",
            "  Downloading websockets-10.4-cp311-cp311-manylinux_2_5_x86_64.manylinux1_x86_64.manylinux_2_17_x86_64.manylinux2014_x86_64.whl.metadata (6.4 kB)\n",
            "Requirement already satisfied: zipp>=3.20 in /usr/local/lib/python3.11/dist-packages (from importlib-metadata>=1.4->pyppeteer) (3.21.0)\n",
            "Requirement already satisfied: typing-extensions in /usr/local/lib/python3.11/dist-packages (from pyee<12.0.0,>=11.0.0->pyppeteer) (4.12.2)\n",
            "Downloading pyppeteer-2.0.0-py3-none-any.whl (82 kB)\n",
            "\u001b[2K   \u001b[90m━━━━━━━━━━━━━━━━━━━━━━━━━━━━━━━━━━━━━━━━\u001b[0m \u001b[32m82.9/82.9 kB\u001b[0m \u001b[31m3.6 MB/s\u001b[0m eta \u001b[36m0:00:00\u001b[0m\n",
            "\u001b[?25hDownloading appdirs-1.4.4-py2.py3-none-any.whl (9.6 kB)\n",
            "Downloading pyee-11.1.1-py3-none-any.whl (15 kB)\n",
            "Downloading urllib3-1.26.20-py2.py3-none-any.whl (144 kB)\n",
            "\u001b[2K   \u001b[90m━━━━━━━━━━━━━━━━━━━━━━━━━━━━━━━━━━━━━━━━\u001b[0m \u001b[32m144.2/144.2 kB\u001b[0m \u001b[31m9.0 MB/s\u001b[0m eta \u001b[36m0:00:00\u001b[0m\n",
            "\u001b[?25hDownloading websockets-10.4-cp311-cp311-manylinux_2_5_x86_64.manylinux1_x86_64.manylinux_2_17_x86_64.manylinux2014_x86_64.whl (107 kB)\n",
            "\u001b[2K   \u001b[90m━━━━━━━━━━━━━━━━━━━━━━━━━━━━━━━━━━━━━━━━\u001b[0m \u001b[32m107.4/107.4 kB\u001b[0m \u001b[31m6.1 MB/s\u001b[0m eta \u001b[36m0:00:00\u001b[0m\n",
            "\u001b[?25hInstalling collected packages: appdirs, websockets, urllib3, pyee, pyppeteer\n",
            "  Attempting uninstall: websockets\n",
            "    Found existing installation: websockets 14.2\n",
            "    Uninstalling websockets-14.2:\n",
            "      Successfully uninstalled websockets-14.2\n",
            "  Attempting uninstall: urllib3\n",
            "    Found existing installation: urllib3 2.3.0\n",
            "    Uninstalling urllib3-2.3.0:\n",
            "      Successfully uninstalled urllib3-2.3.0\n",
            "\u001b[31mERROR: pip's dependency resolver does not currently take into account all the packages that are installed. This behaviour is the source of the following dependency conflicts.\n",
            "google-genai 0.8.0 requires websockets<15.0dev,>=13.0, but you have websockets 10.4 which is incompatible.\u001b[0m\u001b[31m\n",
            "\u001b[0mSuccessfully installed appdirs-1.4.4 pyee-11.1.1 pyppeteer-2.0.0 urllib3-1.26.20 websockets-10.4\n"
          ]
        }
      ],
      "source": [
        "!pip install pyppeteer"
      ]
    },
    {
      "cell_type": "code",
      "execution_count": null,
      "metadata": {
        "colab": {
          "base_uri": "https://localhost:8080/"
        },
        "id": "jbyN5ZXfDpdU",
        "outputId": "2a9aa7c2-1acb-402e-b50e-610e22ea7850"
      },
      "outputs": [
        {
          "output_type": "stream",
          "name": "stdout",
          "text": [
            "Подключение к Telegram API успешно!\n"
          ]
        }
      ],
      "source": [
        "import requests\n",
        "\n",
        "# Проверка подключения к Telegram API\n",
        "try:\n",
        "    response = requests.get(\"https://api.telegram.org\")\n",
        "    if response.status_code == 200:\n",
        "        print(\"Подключение к Telegram API успешно!\")\n",
        "    else:\n",
        "        print(f\"Ошибка подключения: {response.status_code}\")\n",
        "except Exception as e:\n",
        "    print(f\"Ошибка: {e}\")"
      ]
    },
    {
      "cell_type": "code",
      "source": [
        "import requests\n",
        "response = requests.get(\"https://api.telegram.org\")\n",
        "print(response.status_code)  # Должно быть 200"
      ],
      "metadata": {
        "colab": {
          "base_uri": "https://localhost:8080/"
        },
        "id": "i9pqozQCG1w7",
        "outputId": "ca3d964e-a7db-45ae-ba38-402cd659d30e"
      },
      "execution_count": null,
      "outputs": [
        {
          "output_type": "stream",
          "name": "stdout",
          "text": [
            "200\n"
          ]
        }
      ]
    },
    {
      "cell_type": "code",
      "source": [
        "import nest_asyncio\n",
        "nest_asyncio.apply()"
      ],
      "metadata": {
        "id": "Dd4EDs-2HfWi"
      },
      "execution_count": null,
      "outputs": []
    },
    {
      "cell_type": "code",
      "source": [
        "import requests\n",
        "BOT_TOKEN = \"7767565759:AAGGfTKE9HjE1JkgnFjs8Z9jPZJKqYMsYOU\"\n",
        "response = requests.get(f\"https://api.telegram.org/bot{BOT_TOKEN}/getMe\")\n",
        "print(response.json())  # Должен вернуть информацию о боте"
      ],
      "metadata": {
        "colab": {
          "base_uri": "https://localhost:8080/"
        },
        "id": "TK6fz4YEHtRr",
        "outputId": "437bcfff-cff3-4bfd-fb13-ea7142079baf"
      },
      "execution_count": null,
      "outputs": [
        {
          "output_type": "stream",
          "name": "stdout",
          "text": [
            "{'ok': True, 'result': {'id': 7767565759, 'is_bot': True, 'first_name': 'museum_for_dates_bot', 'username': 'md1809bot', 'can_join_groups': True, 'can_read_all_group_messages': False, 'supports_inline_queries': False, 'can_connect_to_business': False, 'has_main_web_app': False}}\n"
          ]
        }
      ]
    },
    {
      "cell_type": "code",
      "execution_count": null,
      "metadata": {
        "colab": {
          "base_uri": "https://localhost:8080/"
        },
        "id": "fuK2GTmp5B1_",
        "outputId": "c180ef2b-256f-478d-b250-994f1790109f"
      },
      "outputs": [
        {
          "output_type": "stream",
          "name": "stdout",
          "text": [
            "Collecting aiogram\n",
            "  Downloading aiogram-3.17.0-py3-none-any.whl.metadata (7.6 kB)\n",
            "Collecting aiofiles<24.2,>=23.2.1 (from aiogram)\n",
            "  Downloading aiofiles-24.1.0-py3-none-any.whl.metadata (10 kB)\n",
            "Requirement already satisfied: aiohttp<3.12,>=3.9.0 in /usr/local/lib/python3.11/dist-packages (from aiogram) (3.11.11)\n",
            "Requirement already satisfied: certifi>=2023.7.22 in /usr/local/lib/python3.11/dist-packages (from aiogram) (2025.1.31)\n",
            "Collecting magic-filter<1.1,>=1.0.12 (from aiogram)\n",
            "  Downloading magic_filter-1.0.12-py3-none-any.whl.metadata (1.5 kB)\n",
            "Requirement already satisfied: pydantic<2.11,>=2.4.1 in /usr/local/lib/python3.11/dist-packages (from aiogram) (2.10.6)\n",
            "Requirement already satisfied: typing-extensions<=5.0,>=4.7.0 in /usr/local/lib/python3.11/dist-packages (from aiogram) (4.12.2)\n",
            "Requirement already satisfied: aiohappyeyeballs>=2.3.0 in /usr/local/lib/python3.11/dist-packages (from aiohttp<3.12,>=3.9.0->aiogram) (2.4.4)\n",
            "Requirement already satisfied: aiosignal>=1.1.2 in /usr/local/lib/python3.11/dist-packages (from aiohttp<3.12,>=3.9.0->aiogram) (1.3.2)\n",
            "Requirement already satisfied: attrs>=17.3.0 in /usr/local/lib/python3.11/dist-packages (from aiohttp<3.12,>=3.9.0->aiogram) (25.1.0)\n",
            "Requirement already satisfied: frozenlist>=1.1.1 in /usr/local/lib/python3.11/dist-packages (from aiohttp<3.12,>=3.9.0->aiogram) (1.5.0)\n",
            "Requirement already satisfied: multidict<7.0,>=4.5 in /usr/local/lib/python3.11/dist-packages (from aiohttp<3.12,>=3.9.0->aiogram) (6.1.0)\n",
            "Requirement already satisfied: propcache>=0.2.0 in /usr/local/lib/python3.11/dist-packages (from aiohttp<3.12,>=3.9.0->aiogram) (0.2.1)\n",
            "Requirement already satisfied: yarl<2.0,>=1.17.0 in /usr/local/lib/python3.11/dist-packages (from aiohttp<3.12,>=3.9.0->aiogram) (1.18.3)\n",
            "Requirement already satisfied: annotated-types>=0.6.0 in /usr/local/lib/python3.11/dist-packages (from pydantic<2.11,>=2.4.1->aiogram) (0.7.0)\n",
            "Requirement already satisfied: pydantic-core==2.27.2 in /usr/local/lib/python3.11/dist-packages (from pydantic<2.11,>=2.4.1->aiogram) (2.27.2)\n",
            "Requirement already satisfied: idna>=2.0 in /usr/local/lib/python3.11/dist-packages (from yarl<2.0,>=1.17.0->aiohttp<3.12,>=3.9.0->aiogram) (3.10)\n",
            "Downloading aiogram-3.17.0-py3-none-any.whl (610 kB)\n",
            "\u001b[2K   \u001b[90m━━━━━━━━━━━━━━━━━━━━━━━━━━━━━━━━━━━━━━━━\u001b[0m \u001b[32m610.0/610.0 kB\u001b[0m \u001b[31m10.8 MB/s\u001b[0m eta \u001b[36m0:00:00\u001b[0m\n",
            "\u001b[?25hDownloading aiofiles-24.1.0-py3-none-any.whl (15 kB)\n",
            "Downloading magic_filter-1.0.12-py3-none-any.whl (11 kB)\n",
            "Installing collected packages: magic-filter, aiofiles, aiogram\n",
            "Successfully installed aiofiles-24.1.0 aiogram-3.17.0 magic-filter-1.0.12\n"
          ]
        }
      ],
      "source": [
        "pip install aiogram"
      ]
    },
    {
      "cell_type": "code",
      "execution_count": null,
      "metadata": {
        "id": "ghv7PfFNC9OY"
      },
      "outputs": [],
      "source": [
        "import logging\n",
        "from aiogram import Bot, Dispatcher, types\n",
        "from aiogram.types import ReplyKeyboardMarkup, KeyboardButton\n",
        "from aiogram.filters import Command  # Импортируем Command\n",
        "from aiogram import F  # Импортируем F для работы с фильтрами\n",
        "import sqlite3\n",
        "import nest_asyncio\n",
        "import asyncio  # Импортируем asyncio для запуска асинхронного кода\n",
        "\n",
        "# Разрешаем вложенные циклы событий\n",
        "nest_asyncio.apply()\n",
        "\n",
        "# Убеждаемся, что мы используем правильный токен\n",
        "API_TOKEN = '7767565759:AAGGfTKE9HjE1JkgnFjs8Z9jPZJKqYMsYOU'\n",
        "\n",
        "# Инициализация бота\n",
        "bot = Bot(token=API_TOKEN)\n",
        "\n",
        "# Инициализация диспетчера\n",
        "dp = Dispatcher()\n",
        "\n",
        "# Инициализация базы данных\n",
        "conn = sqlite3.connect('users.db')\n",
        "cursor = conn.cursor()\n",
        "cursor.execute('''CREATE TABLE IF NOT EXISTS users\n",
        "                  (id INTEGER PRIMARY KEY, username TEXT, visited_places TEXT, interests TEXT)''')\n",
        "conn.commit()\n",
        "\n",
        "# Создание клавиатуры\n",
        "menu_keyboard = ReplyKeyboardMarkup(\n",
        "    keyboard=[\n",
        "        [KeyboardButton(text=\"Добавить место\")],\n",
        "        [KeyboardButton(text=\"Мои совпадения\")]\n",
        "    ],\n",
        "    resize_keyboard=True  # Опциональный параметр\n",
        ")\n",
        "\n",
        "# Обработчик команды /start\n",
        "@dp.message(Command(\"start\"))  # Используем Command для обработки команды /start\n",
        "async def send_welcome(message: types.Message):\n",
        "    await message.reply(\"Привет! Выбери действие:\", reply_markup=menu_keyboard)\n",
        "\n",
        "# Обработчик добавления места\n",
        "@dp.message(F.text == \"Добавить место\")  # Используем F.text для обработки текстовых сообщений\n",
        "async def add_place(message: types.Message):\n",
        "    await message.reply(\"Введите название места, которое вы посетили:\")\n",
        "\n",
        "# Обработчик текстовых сообщений (добавление места)\n",
        "@dp.message()  # Обработчик для всех текстовых сообщений\n",
        "async def process_place(message: types.Message):\n",
        "    place_name = message.text\n",
        "    user_id = message.from_user.id\n",
        "    username = message.from_user.username\n",
        "\n",
        "    # Добавляем место в базу данных\n",
        "    cursor.execute(\"INSERT OR REPLACE INTO users (id, username, visited_places) VALUES (?, ?, ?)\",\n",
        "                   (user_id, username, place_name))\n",
        "    conn.commit()\n",
        "\n",
        "    # Ищем совпадения\n",
        "    cursor.execute(\"SELECT username FROM users WHERE visited_places = ? AND id != ?\", (place_name, user_id))\n",
        "    matches = cursor.fetchall()\n",
        "\n",
        "    if matches:\n",
        "        response = \"Вы можете познакомиться с этими пользователями:\\n\"\n",
        "        for match in matches:\n",
        "            response += f\"Пользователь: {match[0]}\\n\"\n",
        "    else:\n",
        "        response = \"Пока никто не посещал это место.\"\n",
        "\n",
        "    await message.reply(response)\n",
        "\n",
        "# Обработчик команды \"Мои совпадения\"\n",
        "@dp.message(F.text == \"Мои совпадения\")  # Используем F.text для обработки текстовых сообщений\n",
        "async def show_matches(message: types.Message):\n",
        "    user_id = message.from_user.id\n",
        "\n",
        "    # Получаем места, которые посетил пользователь\n",
        "    cursor.execute(\"SELECT visited_places FROM users WHERE id = ?\", (user_id,))\n",
        "    places = cursor.fetchall()\n",
        "\n",
        "    if not places:\n",
        "        await message.reply(\"Вы пока не добавили ни одного места.\")\n",
        "        return\n",
        "\n",
        "    # Ищем совпадения для каждого места\n",
        "    response = \"Ваши совпадения:\\n\"\n",
        "    for place in places:\n",
        "        cursor.execute(\"SELECT username FROM users WHERE visited_places = ? AND id != ?\", (place[0], user_id))\n",
        "        matches = cursor.fetchall()\n",
        "        if matches:\n",
        "            response += f\"Место: {place[0]}\\n\"\n",
        "            for match in matches:\n",
        "                response += f\"Пользователь: {match[0]}\\n\"\n",
        "\n",
        "    await message.reply(response)\n",
        "\n",
        "# Асинхронная функция для запуска бота\n",
        "async def main():\n",
        "    await dp.start_polling(bot, skip_updates=True)  # Используем await для запуска polling\n",
        "\n",
        "# Запуск бота\n",
        "if __name__ == '__main__':\n",
        "    asyncio.run(main())  # Используем asyncio.run для запуска асинхронного кода"
      ]
    }
  ],
  "metadata": {
    "colab": {
      "provenance": [],
      "authorship_tag": "ABX9TyPJP9GYuP8exJ7xqWSm8xjZ",
      "include_colab_link": true
    },
    "kernelspec": {
      "display_name": "Python 3",
      "name": "python3"
    },
    "language_info": {
      "name": "python"
    }
  },
  "nbformat": 4,
  "nbformat_minor": 0
}
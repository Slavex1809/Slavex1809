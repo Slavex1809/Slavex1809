{
  "nbformat": 4,
  "nbformat_minor": 0,
  "metadata": {
    "colab": {
      "provenance": [],
      "authorship_tag": "ABX9TyMi9D2qaJiLGLZ7yWUeRfhF",
      "include_colab_link": true
    },
    "kernelspec": {
      "name": "python3",
      "display_name": "Python 3"
    },
    "language_info": {
      "name": "python"
    }
  },
  "cells": [
    {
      "cell_type": "markdown",
      "metadata": {
        "id": "view-in-github",
        "colab_type": "text"
      },
      "source": [
        "<a href=\"https://colab.research.google.com/github/Slavex1809/Slavex1809/blob/main/%D0%9A%D0%BE%D0%BF%D0%B8%D1%8F_%D0%B1%D0%BB%D0%BE%D0%BA%D0%BD%D0%BE%D1%82%D0%B0_%22%D0%9F%D0%BE%D1%81%D1%82%D1%80%D0%BE%D0%B5%D0%BD%D0%B8%D0%B5_%D0%BA%D0%BB%D0%B0%D1%81%D1%81%D0%B8%D1%84%D0%B8%D0%BA%D0%B0%D1%82%D0%BE%D1%80%D0%B0_ipynb%22.ipynb\" target=\"_parent\"><img src=\"https://colab.research.google.com/assets/colab-badge.svg\" alt=\"Open In Colab\"/></a>"
      ]
    },
    {
      "cell_type": "code",
      "source": [
        "import pandas as pd\n",
        "import numpy as np\n",
        "import torch\n",
        "import torch.nn as nn\n",
        "import torch.optim as optim\n",
        "from torch.utils.data import DataLoader, TensorDataset\n",
        "from torch.optim.lr_scheduler import ReduceLROnPlateau\n",
        "import matplotlib.pyplot as plt"
      ],
      "metadata": {
        "id": "MmXoBxKS4-U6"
      },
      "execution_count": null,
      "outputs": []
    },
    {
      "cell_type": "code",
      "source": [
        "# Загрузка данных\n",
        "train_df = pd.read_csv('fmnist_train.csv')\n",
        "test_df = pd.read_csv('fmnist_test.csv')\n",
        "\n",
        "print(\"train_df.shape:\", train_df.shape)\n",
        "print(\"test_df.shape:\", test_df.shape)\n",
        "\n",
        "# Удаление лишних столбцов (например, Id, и т.д.)\n",
        "def clean_dataframe(df):\n",
        "    # Определяем ожидаемые пиксельные колонки\n",
        "    expected_pixel_columns = [f'pixel{i}' for i in range(784)]\n",
        "\n",
        "    # Если нет pixel0, но есть pixel1 — переименовываем\n",
        "    if 'pixel0' not in df.columns and 'pixel1' in df.columns:\n",
        "        df.rename(columns={f'pixel{i+1}': f'pixel{i}' for i in range(784)}, inplace=True)\n",
        "\n",
        "    # Удаляем лишние столбцы\n",
        "    extra_cols = df.columns.difference(expected_pixel_columns + (['label'] if 'label' in df.columns else []))\n",
        "    if not extra_cols.empty:\n",
        "        print(f\"Удаляем лишние столбцы: {list(extra_cols)}\")\n",
        "        df.drop(columns=extra_cols, inplace=True)\n",
        "\n",
        "    # Проверяем структуру\n",
        "    if 'label' in df.columns:\n",
        "        assert df.shape[1] == 785, f\"Ошибка: {df.shape[1]} колонок вместо 785\"\n",
        "    else:\n",
        "        assert df.shape[1] == 784, f\"Ошибка: {df.shape[1]} колонок вместо 784\"\n",
        "\n",
        "    return df\n",
        "\n",
        "# Чистка данных\n",
        "train_df = clean_dataframe(train_df)\n",
        "test_df = clean_dataframe(test_df)"
      ],
      "metadata": {
        "colab": {
          "base_uri": "https://localhost:8080/"
        },
        "id": "9CN9BKwU5A0s",
        "outputId": "e1bdf84b-e03e-49a3-ca70-b904d3511970"
      },
      "execution_count": null,
      "outputs": [
        {
          "output_type": "stream",
          "name": "stdout",
          "text": [
            "train_df.shape: (17040, 786)\n",
            "test_df.shape: (10000, 785)\n",
            "Удаляем лишние столбцы: ['Id']\n",
            "Удаляем лишние столбцы: ['Id']\n"
          ]
        }
      ]
    },
    {
      "cell_type": "code",
      "source": [
        "# Разделение на признаки и метки\n",
        "X_train = train_df.drop('label', axis=1).values\n",
        "y_train = train_df['label'].values\n",
        "\n",
        "# Рашейп и нормализация\n",
        "X_train = X_train.reshape(-1, 28, 28).astype(np.float32) / 255.0\n",
        "X_train = (X_train - 0.5) / 0.5\n",
        "X_train = X_train.reshape(-1, 1, 28, 28)\n",
        "\n",
        "# Разделение на train/val\n",
        "from sklearn.model_selection import train_test_split\n",
        "X_train, X_val, y_train, y_val = train_test_split(X_train, y_train, test_size=0.2, random_state=42)\n",
        "\n",
        "# Конвертация в тензоры\n",
        "train_tensor = TensorDataset(torch.tensor(X_train), torch.tensor(y_train))\n",
        "val_tensor = TensorDataset(torch.tensor(X_val), torch.tensor(y_val))\n",
        "\n",
        "batch_size = 128\n",
        "train_loader = DataLoader(train_tensor, batch_size=batch_size, shuffle=True)\n",
        "val_loader = DataLoader(val_tensor, batch_size=batch_size)"
      ],
      "metadata": {
        "id": "R4Y3gfN25Cp5"
      },
      "execution_count": null,
      "outputs": []
    },
    {
      "cell_type": "code",
      "source": [
        "class FashionCNN(nn.Module):\n",
        "    def __init__(self):\n",
        "        super(FashionCNN, self).__init__()\n",
        "        self.features = nn.Sequential(\n",
        "            nn.Conv2d(1, 32, kernel_size=3, padding=1),\n",
        "            nn.BatchNorm2d(32),\n",
        "            nn.ReLU(),\n",
        "            nn.MaxPool2d(2, 2),\n",
        "\n",
        "            nn.Conv2d(32, 64, kernel_size=3, padding=1),\n",
        "            nn.BatchNorm2d(64),\n",
        "            nn.ReLU(),\n",
        "            nn.MaxPool2d(2, 2),\n",
        "\n",
        "            nn.Conv2d(64, 128, kernel_size=3, padding=1),\n",
        "            nn.BatchNorm2d(128),\n",
        "            nn.ReLU(),\n",
        "            nn.MaxPool2d(2, 2),\n",
        "\n",
        "            nn.Dropout2d(0.25)\n",
        "        )\n",
        "\n",
        "        self.classifier = nn.Sequential(\n",
        "            nn.Linear(128 * 3 * 3, 512),\n",
        "            nn.BatchNorm1d(512),\n",
        "            nn.ReLU(),\n",
        "            nn.Dropout(0.5),\n",
        "            nn.Linear(512, 10)\n",
        "        )\n",
        "\n",
        "    def forward(self, x):\n",
        "        x = self.features(x)\n",
        "        x = x.view(x.size(0), -1)\n",
        "        x = self.classifier(x)\n",
        "        return x"
      ],
      "metadata": {
        "id": "y5XNJQhv5FK_"
      },
      "execution_count": null,
      "outputs": []
    },
    {
      "cell_type": "code",
      "source": [
        "device = torch.device('cuda' if torch.cuda.is_available() else 'cpu')\n",
        "model = FashionCNN().to(device)\n",
        "criterion = nn.CrossEntropyLoss()\n",
        "optimizer = optim.Adam(model.parameters(), lr=0.001)\n",
        "scheduler = ReduceLROnPlateau(optimizer, mode='max', patience=3, factor=0.5)\n",
        "\n",
        "def calculate_accuracy(loader):\n",
        "    model.eval()\n",
        "    correct = 0\n",
        "    total = 0\n",
        "    with torch.no_grad():\n",
        "        for images, labels in loader:\n",
        "            images, labels = images.to(device), labels.to(device)\n",
        "            outputs = model(images)\n",
        "            _, predicted = torch.max(outputs.data, 1)\n",
        "            total += labels.size(0)\n",
        "            correct += (predicted == labels).sum().item()\n",
        "    return correct / total\n",
        "\n",
        "# Обучение\n",
        "epochs = 20\n",
        "best_acc = 0.0\n",
        "\n",
        "for epoch in range(epochs):\n",
        "    model.train()\n",
        "    running_loss = 0.0\n",
        "    for images, labels in train_loader:\n",
        "        images, labels = images.to(device), labels.to(device)\n",
        "\n",
        "        optimizer.zero_grad()\n",
        "        outputs = model(images)\n",
        "        loss = criterion(outputs, labels)\n",
        "        loss.backward()\n",
        "        optimizer.step()\n",
        "\n",
        "        running_loss += loss.item()\n",
        "\n",
        "    val_acc = calculate_accuracy(val_loader)\n",
        "    scheduler.step(val_acc)\n",
        "\n",
        "    print(f'Epoch {epoch+1}/{epochs}, Loss: {running_loss/len(train_loader):.4f}, Val Acc: {val_acc:.4f}')\n",
        "\n",
        "    if val_acc > best_acc:\n",
        "        best_acc = val_acc\n",
        "        torch.save(model.state_dict(), 'best_model.pth')\n",
        "\n",
        "print(f'Лучшая точность на валидации: {best_acc:.4f}')"
      ],
      "metadata": {
        "colab": {
          "base_uri": "https://localhost:8080/"
        },
        "id": "iK-ltSMG5Hl5",
        "outputId": "b6f516a2-0840-4cbb-9bd2-0b9cbc4bcaab"
      },
      "execution_count": null,
      "outputs": [
        {
          "output_type": "stream",
          "name": "stdout",
          "text": [
            "Epoch 1/20, Loss: nan, Val Acc: 0.0951\n",
            "Epoch 2/20, Loss: nan, Val Acc: 0.0951\n",
            "Epoch 3/20, Loss: nan, Val Acc: 0.0951\n",
            "Epoch 4/20, Loss: nan, Val Acc: 0.0951\n",
            "Epoch 5/20, Loss: nan, Val Acc: 0.0951\n",
            "Epoch 6/20, Loss: nan, Val Acc: 0.0951\n",
            "Epoch 7/20, Loss: nan, Val Acc: 0.0951\n",
            "Epoch 8/20, Loss: nan, Val Acc: 0.0951\n",
            "Epoch 9/20, Loss: nan, Val Acc: 0.0951\n",
            "Epoch 10/20, Loss: nan, Val Acc: 0.0951\n",
            "Epoch 11/20, Loss: nan, Val Acc: 0.0951\n",
            "Epoch 12/20, Loss: nan, Val Acc: 0.0951\n",
            "Epoch 13/20, Loss: nan, Val Acc: 0.0951\n",
            "Epoch 14/20, Loss: nan, Val Acc: 0.0951\n",
            "Epoch 15/20, Loss: nan, Val Acc: 0.0951\n",
            "Epoch 16/20, Loss: nan, Val Acc: 0.0951\n",
            "Epoch 17/20, Loss: nan, Val Acc: 0.0951\n",
            "Epoch 18/20, Loss: nan, Val Acc: 0.0951\n",
            "Epoch 19/20, Loss: nan, Val Acc: 0.0951\n",
            "Epoch 20/20, Loss: nan, Val Acc: 0.0951\n",
            "Лучшая точность на валидации: 0.0951\n"
          ]
        }
      ]
    },
    {
      "cell_type": "code",
      "source": [
        "# Подготовка тестового набора\n",
        "X_test = test_df.values\n",
        "\n",
        "# Рашейп и нормализация\n",
        "X_test = X_test.reshape(-1, 28, 28).astype(np.float32) / 255.0\n",
        "X_test = (X_test - 0.5) / 0.5\n",
        "X_test = X_test.reshape(-1, 1, 28, 28)\n",
        "\n",
        "# Тензоры\n",
        "test_tensor = TensorDataset(torch.tensor(X_test))\n",
        "test_loader = DataLoader(test_tensor, batch_size=128)\n",
        "\n",
        "# Загрузка лучшей модели\n",
        "model.load_state_dict(torch.load('best_model.pth'))\n",
        "model.eval()\n",
        "\n",
        "all_predictions = []\n",
        "with torch.no_grad():\n",
        "    for images, in test_loader:\n",
        "        images = images.to(device)\n",
        "        outputs = model(images)\n",
        "        _, predicted = torch.max(outputs, 1)\n",
        "        all_predictions.extend(predicted.cpu().numpy())\n",
        "\n",
        "# Сохранение submission\n",
        "submission = pd.DataFrame({\n",
        "    'Id': range(len(all_predictions)),\n",
        "    'label': all_predictions\n",
        "})\n",
        "submission.to_csv('submission.csv', index=False)\n",
        "print(\"✅ Файл submission.csv создан!\")"
      ],
      "metadata": {
        "colab": {
          "base_uri": "https://localhost:8080/"
        },
        "id": "AOaLcq80819F",
        "outputId": "3b82d658-1268-43bb-a809-0f19bd98a33f"
      },
      "execution_count": null,
      "outputs": [
        {
          "output_type": "stream",
          "name": "stdout",
          "text": [
            "✅ Файл submission.csv создан!\n"
          ]
        }
      ]
    }
  ]
}